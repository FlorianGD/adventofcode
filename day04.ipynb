{
 "cells": [
  {
   "cell_type": "markdown",
   "metadata": {},
   "source": [
    "# Day 4\n",
    "## Part 1\n",
    "We have to check that each word in each line appears only once, and count the valid ones."
   ]
  },
  {
   "cell_type": "code",
   "execution_count": 1,
   "metadata": {},
   "outputs": [
    {
     "data": {
      "text/plain": [
       "325"
      ]
     },
     "execution_count": 1,
     "metadata": {},
     "output_type": "execute_result"
    }
   ],
   "source": [
    "res = 0\n",
    "with open('day04-part1-input.txt') as input:\n",
    "    for line in input:\n",
    "        words = line.strip().split(' ') # the strip is for the \\n at the end of the line\n",
    "        res += (len(words) == len(set(words))) # only equal is all words are unique\n",
    "res"
   ]
  },
  {
   "cell_type": "markdown",
   "metadata": {},
   "source": [
    "## Part 2\n",
    "Now we have to check for anagrams, not only exactly equal words.\n",
    "\n",
    "* abcde fghij is a valid passphrase.\n",
    "* abcde xyz ecdab is not valid - the letters from the third word can be rearranged to form the first word.\n",
    "* a ab abc abd abf abj is a valid passphrase, because all letters need to be used when forming another word.\n",
    "* iiii oiii ooii oooi oooo is valid.\n",
    "* oiii ioii iioi iiio is not valid - any of these words can be rearranged to form any other word.\n"
   ]
  },
  {
   "cell_type": "code",
   "execution_count": 2,
   "metadata": {},
   "outputs": [],
   "source": [
    "from itertools import product"
   ]
  },
  {
   "cell_type": "markdown",
   "metadata": {},
   "source": [
    "To check if two words are anagram, we have to check that all the letters of one word are in the other exactly once. We cannot just compare if all the letters of a word are found in the other, because ther could be repeated letters."
   ]
  },
  {
   "cell_type": "code",
   "execution_count": 3,
   "metadata": {},
   "outputs": [],
   "source": [
    "def are_anagram(a, b):\n",
    "    '''\n",
    "    Test if a and b are anagrams\n",
    "    a, b : strings\n",
    "    returns : boolean\n",
    "    '''\n",
    "    # Split the letters of b\n",
    "    letters_b = list(b)\n",
    "    \n",
    "    for l_a in a:\n",
    "        # if the letter is missing, it is not an anagram\n",
    "        if l_a not in letters_b:\n",
    "            return False\n",
    "        # remove the letter from b\n",
    "        else:\n",
    "            letters_b.remove(l_a)\n",
    "    # If all the letters of b have been found, it is an anagram\n",
    "    return letters_b == []\n",
    "    "
   ]
  },
  {
   "cell_type": "code",
   "execution_count": 4,
   "metadata": {},
   "outputs": [],
   "source": [
    "assert are_anagram('aaaa', 'bbbb') == False\n",
    "assert are_anagram('abcd', 'dbac') == True\n",
    "assert are_anagram('aabd', 'baad') == True\n",
    "assert are_anagram('oiii', 'ooii') == False\n",
    "assert are_anagram('oiiii', 'ooii') == False"
   ]
  },
  {
   "cell_type": "markdown",
   "metadata": {},
   "source": [
    "Given a list, we make a product of the list with itself to check for anagrams. We check if all the words are different before, so we can skip if the product gives the same words as they come from the same word in the first place. If any of these words are anagram, we return "
   ]
  },
  {
   "cell_type": "code",
   "execution_count": 5,
   "metadata": {},
   "outputs": [],
   "source": [
    "def anagram_list(some_list):\n",
    "    '''\n",
    "    Are any two words in the list anagrams of each other?\n",
    "    Args:\n",
    "        some_list: list of words\n",
    "    Returns:\n",
    "        Boolean\n",
    "    '''\n",
    "    # If not all words are unique, return True\n",
    "    if len(some_list) != len(set(some_list)):\n",
    "        return True\n",
    "    # We know that all the words are different\n",
    "    # We can use product from itertools to compare all the\n",
    "    # words from the list to each other, and we can skip\n",
    "    # when the words are equal because we compare the word\n",
    "    # with itself\n",
    "    return any([are_anagram(p1, p2) for p1, p2 in product(some_list, some_list) if p1 != p2])"
   ]
  },
  {
   "cell_type": "code",
   "execution_count": 6,
   "metadata": {},
   "outputs": [],
   "source": [
    "assert anagram_list(['iiii', 'oiii', 'ooii', 'oooi', 'oooo']) == False\n",
    "assert anagram_list(['oiii', 'ioii', 'iioi', 'iiio']) == True\n",
    "assert anagram_list(['a', 'ab', 'abc', 'abd', 'abf', 'abj']) == False"
   ]
  },
  {
   "cell_type": "code",
   "execution_count": 7,
   "metadata": {
    "scrolled": true
   },
   "outputs": [
    {
     "data": {
      "text/plain": [
       "119"
      ]
     },
     "execution_count": 7,
     "metadata": {},
     "output_type": "execute_result"
    }
   ],
   "source": [
    "res = 0\n",
    "with open('day04-part1-input.txt') as input:\n",
    "    for line in input:\n",
    "        words = line.strip().split(' ') # the strip is for the \\n at the end of the line\n",
    "        res += not anagram_list(words)  # valid if not an anagram\n",
    "res"
   ]
  },
  {
   "cell_type": "markdown",
   "metadata": {},
   "source": [
    "Another solution, inspired by Jenny Bryan's clever one (https://github.com/jennybc/2017_advent-of-code/blob/master/day04.R) for getting the anagrams : sorting the letters and checking if they are identical as in the first part."
   ]
  },
  {
   "cell_type": "code",
   "execution_count": 8,
   "metadata": {},
   "outputs": [
    {
     "data": {
      "text/plain": [
       "119"
      ]
     },
     "execution_count": 8,
     "metadata": {},
     "output_type": "execute_result"
    }
   ],
   "source": [
    "res = 0\n",
    "with open('day04-part1-input.txt') as input:\n",
    "    for line in input:\n",
    "        words = line.strip().split(' ') # the strip is for the \\n at the end of the line\n",
    "        sorted_words = [''.join(sorted(word)) for word in words]\n",
    "        res += len(sorted_words) == len(set(sorted_words))  # valid if not an anagram\n",
    "res"
   ]
  }
 ],
 "metadata": {
  "kernelspec": {
   "display_name": "Python 3",
   "language": "python",
   "name": "python3"
  },
  "language_info": {
   "codemirror_mode": {
    "name": "ipython",
    "version": 3
   },
   "file_extension": ".py",
   "mimetype": "text/x-python",
   "name": "python",
   "nbconvert_exporter": "python",
   "pygments_lexer": "ipython3",
   "version": "3.6.3"
  }
 },
 "nbformat": 4,
 "nbformat_minor": 2
}
