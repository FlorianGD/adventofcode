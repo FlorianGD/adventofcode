{
 "cells": [
  {
   "cell_type": "markdown",
   "metadata": {},
   "source": [
    "# Day 8\n",
    "## Part 1\n",
    "We have to update registers according to conditional instructions. The instructions look like this:\n",
    "\n",
    "    b inc 5 if a > 1\n",
    "    a inc 1 if b < 5\n",
    "    c dec -10 if a >= 1\n",
    "    c inc -20 if c == 10\n",
    " \n",
    "We do not know beforehand the name if all the registers."
   ]
  },
  {
   "cell_type": "code",
   "execution_count": 1,
   "metadata": {},
   "outputs": [],
   "source": [
    "import re"
   ]
  },
  {
   "cell_type": "code",
   "execution_count": 2,
   "metadata": {},
   "outputs": [],
   "source": [
    "instructions_raw = '''b inc 5 if a > 1\n",
    "a inc 1 if b < 5\n",
    "c dec -10 if a >= 1\n",
    "c inc -20 if c == 10'''\n",
    "\n",
    "example_instructions = [x for x in instructions_raw.split('\\n')]"
   ]
  },
  {
   "cell_type": "code",
   "execution_count": 3,
   "metadata": {},
   "outputs": [],
   "source": [
    "def split_instruction(raw_instr):\n",
    "    pattern = re.compile(r'([a-z]+) (inc|dec) (-?\\d+) if ([a-z]+) (<|>|<=|>=|==|!=) (-?\\d+)')\n",
    "    return re.split(pattern, raw_instr)[1:-1]"
   ]
  },
  {
   "cell_type": "code",
   "execution_count": 4,
   "metadata": {},
   "outputs": [],
   "source": [
    "def eval_instruction(instruction, registers):\n",
    "    reg, op, val, reg_cond, op_cond, val_cond = instruction\n",
    "    val_reg = registers.get(reg, 0)\n",
    "    val_reg_cond = registers.get(reg_cond, 0)\n",
    "    op = '+' if op == 'inc' else '-'\n",
    "    cond = str(val_reg_cond) + op_cond + val_cond\n",
    "    if eval(cond):\n",
    "        operation = str(val_reg) + op + val\n",
    "        registers[reg] = eval(operation)"
   ]
  },
  {
   "cell_type": "code",
   "execution_count": 5,
   "metadata": {},
   "outputs": [],
   "source": [
    "def eval_all(instructions):\n",
    "    registers = dict()\n",
    "    for instr in instructions:\n",
    "        eval_instruction(split_instruction(instr), registers)\n",
    "    return max(registers.values())"
   ]
  },
  {
   "cell_type": "code",
   "execution_count": 6,
   "metadata": {},
   "outputs": [],
   "source": [
    "assert eval_all(example_instructions) == 1"
   ]
  },
  {
   "cell_type": "markdown",
   "metadata": {},
   "source": [
    "Now with the real file"
   ]
  },
  {
   "cell_type": "code",
   "execution_count": 7,
   "metadata": {},
   "outputs": [],
   "source": [
    "with open('day08-input.txt') as f:\n",
    "    instructions = [x.rstrip() for x in f.readlines()]"
   ]
  },
  {
   "cell_type": "code",
   "execution_count": 8,
   "metadata": {},
   "outputs": [
    {
     "data": {
      "text/plain": [
       "6343"
      ]
     },
     "execution_count": 8,
     "metadata": {},
     "output_type": "execute_result"
    }
   ],
   "source": [
    "eval_all(instructions)"
   ]
  },
  {
   "cell_type": "markdown",
   "metadata": {},
   "source": [
    "## Part 2\n",
    "We now want the max, not after all the operations but the one obtained at any time during the operation."
   ]
  },
  {
   "cell_type": "code",
   "execution_count": 9,
   "metadata": {},
   "outputs": [],
   "source": [
    "def eval_instruction_2(instruction, registers, old_max):\n",
    "    reg, op, val, reg_cond, op_cond, val_cond = instruction\n",
    "    val_reg = registers.get(reg, 0)\n",
    "    val_reg_cond = registers.get(reg_cond, 0)\n",
    "    op = '+' if op == 'inc' else '-'\n",
    "    cond = str(val_reg_cond) + op_cond + val_cond\n",
    "    if eval(cond):\n",
    "        operation = str(val_reg) + op + val\n",
    "        registers[reg] = eval(operation)\n",
    "    return old_max if registers.get(reg, 0) <= old_max else registers[reg]"
   ]
  },
  {
   "cell_type": "code",
   "execution_count": 10,
   "metadata": {},
   "outputs": [],
   "source": [
    "def eval_all_2(instructions):\n",
    "    registers = dict()\n",
    "    all_max = 0\n",
    "    for instr in instructions:\n",
    "        all_max = eval_instruction_2(split_instruction(instr), registers, all_max)\n",
    "    return all_max"
   ]
  },
  {
   "cell_type": "code",
   "execution_count": 11,
   "metadata": {},
   "outputs": [],
   "source": [
    "assert eval_all_2(example_instructions) == 10"
   ]
  },
  {
   "cell_type": "code",
   "execution_count": 12,
   "metadata": {},
   "outputs": [
    {
     "data": {
      "text/plain": [
       "7184"
      ]
     },
     "execution_count": 12,
     "metadata": {},
     "output_type": "execute_result"
    }
   ],
   "source": [
    "eval_all_2(instructions)"
   ]
  }
 ],
 "metadata": {
  "kernelspec": {
   "display_name": "Python 3",
   "language": "python",
   "name": "python3"
  },
  "language_info": {
   "codemirror_mode": {
    "name": "ipython",
    "version": 3
   },
   "file_extension": ".py",
   "mimetype": "text/x-python",
   "name": "python",
   "nbconvert_exporter": "python",
   "pygments_lexer": "ipython3",
   "version": "3.6.3"
  }
 },
 "nbformat": 4,
 "nbformat_minor": 2
}
