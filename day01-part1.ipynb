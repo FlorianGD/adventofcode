{
 "cells": [
  {
   "cell_type": "markdown",
   "metadata": {},
   "source": [
    "# Advent of code Day 1 part 1\n",
    "The goal is to find the sum of the digits that are equal to the next in a string. All rules are here : http://adventofcode.com/2017/day/1\n",
    "For example, '1122' returns 3 (1 for the first 2 digits + 2 for the two next)\n",
    "The sum must be circular, i.e. the digit after the last one is the first one.\n",
    "\n",
    "I think one can use iterators to go through the captcha and find the next one, but I am not familiar with it enough. Instead I will use pandas that I now well.\n",
    "\n",
    "First, I will make a list of int from the captcha string. I will use it to initiate a dataframe.\n",
    "Then, I shift the first column of the dataframe to have to following digit. I need to assign the value for the last digit to being equal to the first one (the shif will assign it to NA by default)\n",
    "Next, I will create a third column being equal to the first one (the value of the digit) times the condition that the value in the first column is equal to the value in the second).\n",
    "Finally, I have to compute the sum of this third column.\n",
    "\n",
    "Ok, let's code."
   ]
  },
  {
   "cell_type": "code",
   "execution_count": 1,
   "metadata": {},
   "outputs": [],
   "source": [
    "import pandas as pd"
   ]
  },
  {
   "cell_type": "code",
   "execution_count": 4,
   "metadata": {},
   "outputs": [],
   "source": [
    "def create_df(captcha):\n",
    "    to_list = [int(x) for x in list(captcha)]\n",
    "    df = pd.DataFrame({'a': to_list})\n",
    "    return df"
   ]
  },
  {
   "cell_type": "code",
   "execution_count": 5,
   "metadata": {},
   "outputs": [],
   "source": [
    "def find_next(df2):\n",
    "    df = df2.copy()\n",
    "    df['b'] = df['a'].shift(-1)\n",
    "    df.loc[len(df) - 1, 'b'] = df.iloc[0, 0]\n",
    "    df['c'] = df['a'] * (df['a'] == df['b'])\n",
    "    return df"
   ]
  },
  {
   "cell_type": "code",
   "execution_count": 6,
   "metadata": {},
   "outputs": [],
   "source": [
    "def compute_sum(captcha):\n",
    "    return find_next(create_df(captcha))['c'].sum()"
   ]
  },
  {
   "cell_type": "markdown",
   "metadata": {},
   "source": [
    "Let's check with the examples given"
   ]
  },
  {
   "cell_type": "code",
   "execution_count": 9,
   "metadata": {},
   "outputs": [
    {
     "name": "stdout",
     "output_type": "stream",
     "text": [
      "'1122' gives 3: True\n"
     ]
    }
   ],
   "source": [
    "print(\"'1122' gives 3: {}\".format(3 == compute_sum('1122')))"
   ]
  },
  {
   "cell_type": "code",
   "execution_count": 7,
   "metadata": {},
   "outputs": [
    {
     "name": "stdout",
     "output_type": "stream",
     "text": [
      "'1111' gives 4: True\n"
     ]
    }
   ],
   "source": [
    "print(\"'1111' gives 4: {}\".format(4 == compute_sum('1111')))"
   ]
  },
  {
   "cell_type": "code",
   "execution_count": 8,
   "metadata": {},
   "outputs": [
    {
     "name": "stdout",
     "output_type": "stream",
     "text": [
      "'1234' gives 0: True\n"
     ]
    }
   ],
   "source": [
    "print(\"'1234' gives 0: {}\".format(0 == compute_sum('1234')))"
   ]
  },
  {
   "cell_type": "code",
   "execution_count": 10,
   "metadata": {},
   "outputs": [
    {
     "name": "stdout",
     "output_type": "stream",
     "text": [
      "'91212129' gives 9: True\n"
     ]
    }
   ],
   "source": [
    "print(\"'91212129' gives 9: {}\".format(9 == compute_sum('91212129')))"
   ]
  },
  {
   "cell_type": "markdown",
   "metadata": {},
   "source": [
    "With my captcha:"
   ]
  },
  {
   "cell_type": "code",
   "execution_count": 11,
   "metadata": {},
   "outputs": [
    {
     "data": {
      "text/plain": [
       "1182"
      ]
     },
     "execution_count": 11,
     "metadata": {},
     "output_type": "execute_result"
    }
   ],
   "source": [
    "compute_sum('61697637962276641366442297247367117738114719863473648131982449728688116728695866572989524473392982963976411147683588415878214189996163533584547175794158118148724298832798898333399786561459152644144669959887341481968319172987357989785791366732849932788343772112176614723858474959919713855398876956427631354172668133549845585632211935573662181331613137869866693259374322169811683635325321597242889358147123358117774914653787371368574784376721652181792371635288376729784967526824915192526744935187989571347746222113625577963476141923187534658445615596987614385911513939292257263723518774888174635963254624769684533531443745729344341973746469326838186248448483587477563285867499956446218775232374383433921835993136463383628861115573142854358943291148766299653633195582135934544964657663198387794442443531964615169655243652696782443394639169687847463721585527947839992182415393199964893658322757634675274422993237955354185194868638454891442893935694454324235968155913963282642649968153284626154111478389914316765783434365458352785868895582488312334931317935669453447478936938533669921165437373741448378477391812779971528975478298688754939216421429251727555596481943322266289527996672856387648674166997731342558986575258793261986817177487197512282162964167151259485744835854547513341322647732662443512251886771887651614177679229984271191292374755915457372775856178539965131319568278252326242615151412772254257847413799811417287481321745372879513766235745347872632946776538173667371228977212143996391617974367923439923774388523845589769341351167311398787797583543434725374343611724379399566197432154146881344528319826434554239373666962546271299717743591225567564655511353255197516515213963862383762258959957474789718564758843367325794589886852413314713698911855183778978722558742329429867239261464773646389484318446574375323674136638452173815176732385468675215264736786242866295648997365412637499692817747937982628518926381939279935993712418938567488289246779458432179335139731952167527521377546376518126276')"
   ]
  },
  {
   "cell_type": "markdown",
   "metadata": {},
   "source": [
    "Which is correct!"
   ]
  }
 ],
 "metadata": {
  "kernelspec": {
   "display_name": "Python 3",
   "language": "python",
   "name": "python3"
  },
  "language_info": {
   "codemirror_mode": {
    "name": "ipython",
    "version": 3
   },
   "file_extension": ".py",
   "mimetype": "text/x-python",
   "name": "python",
   "nbconvert_exporter": "python",
   "pygments_lexer": "ipython3",
   "version": "3.6.3"
  }
 },
 "nbformat": 4,
 "nbformat_minor": 2
}
