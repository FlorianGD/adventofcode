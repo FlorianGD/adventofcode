{
 "cells": [
  {
   "cell_type": "code",
   "execution_count": 30,
   "metadata": {},
   "outputs": [],
   "source": [
    "import numpy as np"
   ]
  },
  {
   "cell_type": "code",
   "execution_count": null,
   "metadata": {},
   "outputs": [],
   "source": [
    "with open('day21-input.txt') as f:\n",
    "    rules = f.readlines()\n",
    "rules = [x.strip('\\n').split(' => ') for x in rules]"
   ]
  },
  {
   "cell_type": "code",
   "execution_count": 94,
   "metadata": {},
   "outputs": [],
   "source": [
    "rules_dict = {key:val for [key, val] in rules}"
   ]
  },
  {
   "cell_type": "code",
   "execution_count": 34,
   "metadata": {},
   "outputs": [
    {
     "data": {
      "text/plain": [
       "[['../..', '..#/.#./...'],\n",
       " ['#./..', '.../#../.##'],\n",
       " ['##/..', '.##/###/##.'],\n",
       " ['.#/#.', '#.#/..#/#.#'],\n",
       " ['##/#.', '.../.##/...']]"
      ]
     },
     "execution_count": 34,
     "metadata": {},
     "output_type": "execute_result"
    }
   ],
   "source": [
    "rules[:5]"
   ]
  },
  {
   "cell_type": "code",
   "execution_count": 98,
   "metadata": {},
   "outputs": [
    {
     "data": {
      "text/plain": [
       "'..#/.#./...'"
      ]
     },
     "execution_count": 98,
     "metadata": {},
     "output_type": "execute_result"
    }
   ],
   "source": [
    "rules_dict.get('../..')"
   ]
  },
  {
   "cell_type": "code",
   "execution_count": 12,
   "metadata": {},
   "outputs": [],
   "source": [
    "start = \".#./..#/###\""
   ]
  },
  {
   "cell_type": "markdown",
   "metadata": {},
   "source": [
    "Define all the rotation for the input rules, so we can look it up directly afterwards."
   ]
  },
  {
   "cell_type": "code",
   "execution_count": 49,
   "metadata": {},
   "outputs": [],
   "source": [
    "def to_array(string):\n",
    "    return np.array([list(x) for x in string.split('/')])"
   ]
  },
  {
   "cell_type": "code",
   "execution_count": 72,
   "metadata": {},
   "outputs": [
    {
     "data": {
      "text/plain": [
       "array([['.', '#', '.'],\n",
       "       ['.', '.', '#'],\n",
       "       ['#', '#', '#']],\n",
       "      dtype='|S1')"
      ]
     },
     "execution_count": 72,
     "metadata": {},
     "output_type": "execute_result"
    }
   ],
   "source": [
    "start_array = to_array(start)\n",
    "start_array"
   ]
  },
  {
   "cell_type": "code",
   "execution_count": 70,
   "metadata": {},
   "outputs": [],
   "source": [
    "def to_string(array):\n",
    "    return \"/\".join(\"\".join(x) for x in array.tolist())"
   ]
  },
  {
   "cell_type": "code",
   "execution_count": 71,
   "metadata": {},
   "outputs": [],
   "source": [
    "assert to_string(start_array) == start"
   ]
  },
  {
   "cell_type": "code",
   "execution_count": 118,
   "metadata": {},
   "outputs": [],
   "source": [
    "def all_rot_and_flips(motif):\n",
    "    ret = list()\n",
    "    motif_array = to_array(motif)\n",
    "    ret.append(motif)\n",
    "    ret.append(to_string(np.rot90(motif_array)))\n",
    "    ret.append(to_string(np.rot90(motif_array, k=2)))\n",
    "    ret.append(to_string(np.rot90(motif_array, k=3)))\n",
    "    ret.append(to_string(np.fliplr(motif_array)))\n",
    "    ret.append(to_string(np.flipud(motif_array)))\n",
    "    ret.append(to_string(np.fliplr(np.rot90(motif_array))))\n",
    "    ret.append(to_string(np.fliplr(np.rot90(motif_array, k=3))))\n",
    "    return ret"
   ]
  },
  {
   "cell_type": "code",
   "execution_count": 119,
   "metadata": {
    "scrolled": false
   },
   "outputs": [
    {
     "name": "stdout",
     "output_type": "stream",
     "text": [
      ".#.\n",
      "..#\n",
      "###\n",
      "\n",
      ".##\n",
      "#.#\n",
      "..#\n",
      "\n",
      "###\n",
      "#..\n",
      ".#.\n",
      "\n",
      "#..\n",
      "#.#\n",
      "##.\n",
      "\n",
      ".#.\n",
      "#..\n",
      "###\n",
      "\n",
      "###\n",
      "..#\n",
      ".#.\n",
      "\n",
      "##.\n",
      "#.#\n",
      "#..\n",
      "\n",
      "..#\n",
      "#.#\n",
      ".##\n",
      "\n"
     ]
    }
   ],
   "source": [
    "for l in all_rot_and_flips(start):\n",
    "    print(l.replace('/', '\\n'))\n",
    "    print(\"\")"
   ]
  },
  {
   "cell_type": "code",
   "execution_count": 109,
   "metadata": {},
   "outputs": [],
   "source": [
    "def all_rules(rules_dict):\n",
    "    rules = dict()\n",
    "    for rule, trans in rules_dict.items():\n",
    "        for new_rule in all_rot_and_flips(rule):\n",
    "            rules[new_rule] = trans\n",
    "    return rules"
   ]
  },
  {
   "cell_type": "code",
   "execution_count": 120,
   "metadata": {},
   "outputs": [],
   "source": [
    "all_rules_dict = all_rules(rules_dict)"
   ]
  },
  {
   "cell_type": "code",
   "execution_count": 138,
   "metadata": {},
   "outputs": [],
   "source": [
    "def augment_grid(old_grid=start_array, rules_dict=all_rules_dict):\n",
    "    new_array = to_array(rules_dict[to_string(old_grid)])\n",
    "    return new_array"
   ]
  },
  {
   "cell_type": "code",
   "execution_count": 139,
   "metadata": {},
   "outputs": [
    {
     "data": {
      "text/plain": [
       "array([['#', '#', '.', '#'],\n",
       "       ['#', '#', '.', '#'],\n",
       "       ['#', '.', '#', '.'],\n",
       "       ['#', '#', '.', '.']],\n",
       "      dtype='|S1')"
      ]
     },
     "execution_count": 139,
     "metadata": {},
     "output_type": "execute_result"
    }
   ],
   "source": [
    "augment_grid()"
   ]
  },
  {
   "cell_type": "code",
   "execution_count": null,
   "metadata": {},
   "outputs": [],
   "source": []
  },
  {
   "cell_type": "code",
   "execution_count": 172,
   "metadata": {},
   "outputs": [],
   "source": [
    "def split_array(old_array):\n",
    "    a, _ = np.shape(old_array)\n",
    "    if a == 2 or a == 3:\n",
    "        return augment_grid(old_array)\n",
    "    if a % 2 == 0:\n",
    "        b = a / 2\n",
    "        new_grid = np.empty((b * 3, b * 3), dtype='|S1')\n",
    "        for i in range(b):\n",
    "            for j in range(b):\n",
    "                new_grid[3*i:3*i+3, 3*j:3*j+3] = split_array(old_array[2*i:2*i+2, 2*j:2*j+2])\n",
    "        return new_grid\n",
    "    if a % 3 == 0:\n",
    "        b = a / 3\n",
    "        new_grid = np.empty((b * 4, b * 4), dtype='|S1')\n",
    "        for i in range(b):\n",
    "            for j in range(b):\n",
    "                new_grid[4*i:4*i+4, 4*j:4*j+4] = split_array(old_array[3*i:3*i+3, 3*j:3*j+3])\n",
    "        return new_grid"
   ]
  },
  {
   "cell_type": "code",
   "execution_count": 174,
   "metadata": {},
   "outputs": [],
   "source": [
    "def n_split(start, n_split):\n",
    "    res = start\n",
    "    for i in range(n_split):\n",
    "        res = split_array(res)\n",
    "    return res"
   ]
  },
  {
   "cell_type": "code",
   "execution_count": 178,
   "metadata": {},
   "outputs": [
    {
     "data": {
      "text/plain": [
       "47"
      ]
     },
     "execution_count": 178,
     "metadata": {},
     "output_type": "execute_result"
    }
   ],
   "source": [
    "to_string(n_split(start_array, 3)).count('#')"
   ]
  },
  {
   "cell_type": "code",
   "execution_count": 179,
   "metadata": {},
   "outputs": [],
   "source": [
    "def count_ones(array):\n",
    "    res = to_string(array)\n",
    "    return res.count('#')"
   ]
  },
  {
   "cell_type": "code",
   "execution_count": 182,
   "metadata": {},
   "outputs": [
    {
     "data": {
      "text/plain": [
       "120"
      ]
     },
     "execution_count": 182,
     "metadata": {},
     "output_type": "execute_result"
    }
   ],
   "source": [
    "count_ones(n_split(start_array, 5))"
   ]
  },
  {
   "cell_type": "code",
   "execution_count": null,
   "metadata": {},
   "outputs": [],
   "source": []
  }
 ],
 "metadata": {
  "kernelspec": {
   "display_name": "Python 2",
   "language": "python",
   "name": "python2"
  },
  "language_info": {
   "codemirror_mode": {
    "name": "ipython",
    "version": 2
   },
   "file_extension": ".py",
   "mimetype": "text/x-python",
   "name": "python",
   "nbconvert_exporter": "python",
   "pygments_lexer": "ipython2",
   "version": "2.7.14"
  }
 },
 "nbformat": 4,
 "nbformat_minor": 2
}
