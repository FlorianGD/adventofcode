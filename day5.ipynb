{
 "cells": [
  {
   "cell_type": "markdown",
   "metadata": {},
   "source": [
    "# Day 5\n",
    "## Part 1\n",
    "We have to walk through a list, update the list as we move and count how many steps until we reach out of the list"
   ]
  },
  {
   "cell_type": "code",
   "execution_count": 1,
   "metadata": {},
   "outputs": [],
   "source": [
    "input = '''0\n",
    "3\n",
    "0\n",
    "1\n",
    "-3'''"
   ]
  },
  {
   "cell_type": "code",
   "execution_count": 2,
   "metadata": {},
   "outputs": [],
   "source": [
    "maze = [int(n) for n in input.split('\\n')]"
   ]
  },
  {
   "cell_type": "code",
   "execution_count": 3,
   "metadata": {},
   "outputs": [
    {
     "data": {
      "text/plain": [
       "[0, 3, 0, 1, -3]"
      ]
     },
     "execution_count": 3,
     "metadata": {},
     "output_type": "execute_result"
    }
   ],
   "source": [
    "maze"
   ]
  },
  {
   "cell_type": "code",
   "execution_count": 4,
   "metadata": {},
   "outputs": [
    {
     "name": "stdout",
     "output_type": "stream",
     "text": [
      "count : 0 => old: 0, new: 0\n",
      "maze: [1, 3, 0, 1, -3]\n",
      "count : 1 => old: 0, new: 1\n",
      "maze: [2, 3, 0, 1, -3]\n",
      "count : 2 => old: 1, new: 4\n",
      "maze: [2, 4, 0, 1, -3]\n",
      "count : 3 => old: 4, new: 1\n",
      "maze: [2, 4, 0, 1, -2]\n",
      "count : 4 => old: 1, new: 5\n",
      "maze: [2, 5, 0, 1, -2]\n",
      "5\n"
     ]
    }
   ],
   "source": [
    "new_idx = 0\n",
    "count = 0\n",
    "while True:\n",
    "    old_idx = new_idx\n",
    "    try:\n",
    "        new_idx = old_idx + maze[old_idx] # Next move\n",
    "        maze[old_idx] += 1\n",
    "        print('count : {} => old: {}, new: {}'.format(count, old_idx, new_idx))\n",
    "        print('maze: {}'.format(maze))\n",
    "        count += 1\n",
    "    except IndexError:\n",
    "        print(count)\n",
    "        break"
   ]
  },
  {
   "cell_type": "markdown",
   "metadata": {},
   "source": [
    "It works! Let's make it a function."
   ]
  },
  {
   "cell_type": "code",
   "execution_count": 5,
   "metadata": {},
   "outputs": [],
   "source": [
    "def walk_maze(m):\n",
    "    next_idx = 0\n",
    "    count = 0\n",
    "    while True:\n",
    "        current_idx = next_idx\n",
    "        try:\n",
    "            # What will be the next position\n",
    "            next_idx = current_idx + m[current_idx]\n",
    "            # Update the maze\n",
    "            m[current_idx] += 1 \n",
    "            # Update the count\n",
    "            count += 1\n",
    "        except IndexError:\n",
    "            return count"
   ]
  },
  {
   "cell_type": "code",
   "execution_count": 6,
   "metadata": {},
   "outputs": [],
   "source": [
    "assert walk_maze([int(n) for n in input.split('\\n')]) == 5"
   ]
  },
  {
   "cell_type": "markdown",
   "metadata": {},
   "source": [
    "Now with the real maze"
   ]
  },
  {
   "cell_type": "code",
   "execution_count": 7,
   "metadata": {},
   "outputs": [],
   "source": [
    "with open('day5-part1-input.txt') as f:\n",
    "    new_input = f.readlines()\n",
    "my_input_maze = [int(n) for n in new_input]\n",
    "my_maze = list(my_input_maze) # make a copy so I can preserve the input for part 2"
   ]
  },
  {
   "cell_type": "code",
   "execution_count": 8,
   "metadata": {},
   "outputs": [
    {
     "data": {
      "text/plain": [
       "356945"
      ]
     },
     "execution_count": 8,
     "metadata": {},
     "output_type": "execute_result"
    }
   ],
   "source": [
    "walk_maze(my_maze)"
   ]
  },
  {
   "cell_type": "markdown",
   "metadata": {},
   "source": [
    "## Part 2\n",
    "Now, the update depends on the value : if it is above or equal to 3, decrease by one, if not, increase by one."
   ]
  },
  {
   "cell_type": "code",
   "execution_count": 9,
   "metadata": {},
   "outputs": [],
   "source": [
    "def walk_maze_2(m):\n",
    "    next_idx = 0\n",
    "    count = 0\n",
    "    while True:\n",
    "        current_idx = next_idx\n",
    "        try:\n",
    "            # What will be the next position\n",
    "            next_idx = current_idx + m[current_idx]\n",
    "            # Update the maze\n",
    "            if m[current_idx] >= 3:\n",
    "                m[current_idx] -= 1 \n",
    "            else:\n",
    "                m[current_idx] += 1 \n",
    "            # Update the count\n",
    "            count += 1\n",
    "        except IndexError:\n",
    "            return count"
   ]
  },
  {
   "cell_type": "code",
   "execution_count": 10,
   "metadata": {},
   "outputs": [],
   "source": [
    "test_maze = [int(n) for n in input.split('\\n')]\n",
    "assert walk_maze_2(test_maze) == 10"
   ]
  },
  {
   "cell_type": "code",
   "execution_count": 11,
   "metadata": {},
   "outputs": [
    {
     "data": {
      "text/plain": [
       "28372145"
      ]
     },
     "execution_count": 11,
     "metadata": {},
     "output_type": "execute_result"
    }
   ],
   "source": [
    "my_maze = list(my_input_maze)\n",
    "walk_maze_2(my_maze)"
   ]
  }
 ],
 "metadata": {
  "kernelspec": {
   "display_name": "Python 3",
   "language": "python",
   "name": "python3"
  },
  "language_info": {
   "codemirror_mode": {
    "name": "ipython",
    "version": 3
   },
   "file_extension": ".py",
   "mimetype": "text/x-python",
   "name": "python",
   "nbconvert_exporter": "python",
   "pygments_lexer": "ipython3",
   "version": "3.6.3"
  }
 },
 "nbformat": 4,
 "nbformat_minor": 2
}
