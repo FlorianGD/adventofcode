{
 "cells": [
  {
   "cell_type": "markdown",
   "metadata": {},
   "source": [
    "# Day 6\n",
    "## Part 1\n",
    "\n",
    "We have to reallocate the maximum value of a vector between all the others banks, as long as we create new combinations. If we go back to an already seen combination, we have to return the number of steps."
   ]
  },
  {
   "cell_type": "code",
   "execution_count": 17,
   "metadata": {},
   "outputs": [],
   "source": [
    "def add_memory(my_set, combination):\n",
    "    if combination in my_set:\n",
    "        return False\n",
    "    else:\n",
    "        my_set.add(combination)\n",
    "        return True"
   ]
  },
  {
   "cell_type": "code",
   "execution_count": 18,
   "metadata": {},
   "outputs": [],
   "source": [
    "def next_vec(vec, banks):\n",
    "    max_val = max(vec)\n",
    "    idx = vec.index(max_val) # first one is retrieved if several maxes\n",
    "    vec[idx] = 0\n",
    "    val_for_all = max_val // banks\n",
    "    remain = max_val % banks\n",
    "    vec = [val + val_for_all for val in vec]\n",
    "    for x in range(idx + 1, idx + remain + 1):\n",
    "        vec[x % banks] += 1\n",
    "    return vec"
   ]
  },
  {
   "cell_type": "code",
   "execution_count": 19,
   "metadata": {},
   "outputs": [],
   "source": [
    "def reallocate(vec):\n",
    "    memory = set() \n",
    "    banks = len(vec)\n",
    "    while add_memory(memory, tuple(vec)):\n",
    "        vec = next_vec(vec, banks)\n",
    "    return len(memory)"
   ]
  },
  {
   "cell_type": "code",
   "execution_count": 21,
   "metadata": {},
   "outputs": [],
   "source": [
    "assert reallocate([0, 2, 7, 0]) == 5"
   ]
  },
  {
   "cell_type": "markdown",
   "metadata": {},
   "source": [
    "Now with the real input"
   ]
  },
  {
   "cell_type": "code",
   "execution_count": 22,
   "metadata": {},
   "outputs": [
    {
     "data": {
      "text/plain": [
       "11137"
      ]
     },
     "execution_count": 22,
     "metadata": {},
     "output_type": "execute_result"
    }
   ],
   "source": [
    "reallocate([14, 0, 15, 12, 11, 11,3, 5, 1, 6, 8, 4 ,9, 1, 8, 4])"
   ]
  },
  {
   "cell_type": "markdown",
   "metadata": {},
   "source": [
    "## Part 2\n",
    "We now want to know how many steps between the 2 seen same states."
   ]
  },
  {
   "cell_type": "code",
   "execution_count": 33,
   "metadata": {},
   "outputs": [],
   "source": [
    "def add_memory_indices(my_list, combination):\n",
    "    if combination in my_list:\n",
    "        return False\n",
    "    else:\n",
    "        my_list.append(combination)\n",
    "        return True"
   ]
  },
  {
   "cell_type": "code",
   "execution_count": 34,
   "metadata": {},
   "outputs": [],
   "source": [
    "def reallocate_indices(vec):\n",
    "    memory = list() \n",
    "    banks = len(vec)\n",
    "    while add_memory_indices(memory, tuple(vec)):\n",
    "        vec = next_vec(vec, banks)\n",
    "    return len(memory) - memory.index(tuple(vec))"
   ]
  },
  {
   "cell_type": "code",
   "execution_count": 35,
   "metadata": {},
   "outputs": [],
   "source": [
    "assert reallocate_indices([0, 2, 7, 0]) == 4"
   ]
  },
  {
   "cell_type": "code",
   "execution_count": 36,
   "metadata": {},
   "outputs": [
    {
     "data": {
      "text/plain": [
       "1037"
      ]
     },
     "execution_count": 36,
     "metadata": {},
     "output_type": "execute_result"
    }
   ],
   "source": [
    "reallocate_indices([14, 0, 15, 12, 11, 11,3, 5, 1, 6, 8, 4 ,9, 1, 8, 4])"
   ]
  },
  {
   "cell_type": "code",
   "execution_count": null,
   "metadata": {},
   "outputs": [],
   "source": []
  }
 ],
 "metadata": {
  "kernelspec": {
   "display_name": "Python 3",
   "language": "python",
   "name": "python3"
  },
  "language_info": {
   "codemirror_mode": {
    "name": "ipython",
    "version": 3
   },
   "file_extension": ".py",
   "mimetype": "text/x-python",
   "name": "python",
   "nbconvert_exporter": "python",
   "pygments_lexer": "ipython3",
   "version": "3.6.3"
  }
 },
 "nbformat": 4,
 "nbformat_minor": 2
}
