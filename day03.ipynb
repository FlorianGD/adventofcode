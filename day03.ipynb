{
 "cells": [
  {
   "cell_type": "markdown",
   "metadata": {},
   "source": [
    "# Day 3\n",
    "## Part 1"
   ]
  },
  {
   "cell_type": "code",
   "execution_count": 10,
   "metadata": {},
   "outputs": [],
   "source": [
    "def edge_value(n):\n",
    "    '''Value of the nth edge'''\n",
    "    k = n // 2\n",
    "    if n % 2 == 0:\n",
    "        return k * (k + 1) + 1\n",
    "    else:\n",
    "        return (k + 1) ** 2 + 1"
   ]
  },
  {
   "cell_type": "code",
   "execution_count": 11,
   "metadata": {},
   "outputs": [
    {
     "name": "stdout",
     "output_type": "stream",
     "text": [
      "Edge number 0 = 1\n",
      "Edge number 1 = 2\n",
      "Edge number 2 = 3\n",
      "Edge number 3 = 5\n",
      "Edge number 4 = 7\n",
      "Edge number 5 = 10\n",
      "Edge number 6 = 13\n",
      "Edge number 7 = 17\n",
      "Edge number 8 = 21\n",
      "Edge number 9 = 26\n",
      "Edge number 10 = 31\n"
     ]
    }
   ],
   "source": [
    "for i in range(11):\n",
    "    print('Edge number {} = {}'.format(i, edge_value(i)))"
   ]
  },
  {
   "cell_type": "code",
   "execution_count": 12,
   "metadata": {},
   "outputs": [],
   "source": [
    "def edge_coordinate(n):\n",
    "    '''Coordinate of the nth edge'''\n",
    "    return ((n-1) // 4 + 1) * (-1) ** ((n-1) // 2), ((n-2) // 4 + 1) * (-1) ** ((n - 2) // 2)"
   ]
  },
  {
   "cell_type": "code",
   "execution_count": 13,
   "metadata": {},
   "outputs": [
    {
     "name": "stdout",
     "output_type": "stream",
     "text": [
      "Edge number 0 = (-0.0, -0.0)\n",
      "Edge number 1 = (1, -0.0)\n",
      "Edge number 2 = (1, 1)\n",
      "Edge number 3 = (-1, 1)\n",
      "Edge number 4 = (-1, -1)\n",
      "Edge number 5 = (2, -1)\n",
      "Edge number 6 = (2, 2)\n",
      "Edge number 7 = (-2, 2)\n",
      "Edge number 8 = (-2, -2)\n",
      "Edge number 9 = (3, -2)\n",
      "Edge number 10 = (3, 3)\n"
     ]
    }
   ],
   "source": [
    "for i in range(11):\n",
    "    print('Edge number {} = {}'.format(i, edge_coordinate(i)))"
   ]
  },
  {
   "cell_type": "code",
   "execution_count": 19,
   "metadata": {},
   "outputs": [],
   "source": [
    "def edge_direction(n):\n",
    "    '''\n",
    "    Where to go after this edge\n",
    "    Returns a vector (a, b) where a and b are either 0, 1 or - 1\n",
    "    (1, 0) is right, (0, 1) is top, (-1, 0) is left and (0, -1) is bottom\n",
    "    '''\n",
    "    n_mod = n % 4\n",
    "    corres = {0:(1, 0), 1:(0, 1), 2:(-1, 0), 3:(0, -1)}\n",
    "    return corres[n_mod]"
   ]
  },
  {
   "cell_type": "code",
   "execution_count": 20,
   "metadata": {},
   "outputs": [
    {
     "name": "stdout",
     "output_type": "stream",
     "text": [
      "Edge number 0 = (1, 0)\n",
      "Edge number 1 = (0, 1)\n",
      "Edge number 2 = (-1, 0)\n",
      "Edge number 3 = (0, -1)\n",
      "Edge number 4 = (1, 0)\n",
      "Edge number 5 = (0, 1)\n",
      "Edge number 6 = (-1, 0)\n",
      "Edge number 7 = (0, -1)\n",
      "Edge number 8 = (1, 0)\n",
      "Edge number 9 = (0, 1)\n",
      "Edge number 10 = (-1, 0)\n"
     ]
    }
   ],
   "source": [
    "for i in range(11):\n",
    "    print('Edge number {} = {}'.format(i, edge_direction(i)))"
   ]
  },
  {
   "cell_type": "code",
   "execution_count": 14,
   "metadata": {},
   "outputs": [],
   "source": [
    "my_number = 312051"
   ]
  },
  {
   "cell_type": "code",
   "execution_count": 44,
   "metadata": {},
   "outputs": [],
   "source": [
    "def find_closest_min_edge(target, start, end):\n",
    "    '''\n",
    "    Compute the edge_value for each number between start and end\n",
    "    Breaks when > target\n",
    "    Returns the indice reached before breaking\n",
    "    '''\n",
    "    for i in range(start, end):\n",
    "        if edge_value(i) > target:\n",
    "            return(i-1)\n",
    "    print('Target not reached')\n",
    "    return -1"
   ]
  },
  {
   "cell_type": "code",
   "execution_count": 45,
   "metadata": {},
   "outputs": [
    {
     "data": {
      "text/plain": [
       "1116"
      ]
     },
     "execution_count": 45,
     "metadata": {},
     "output_type": "execute_result"
    }
   ],
   "source": [
    "find_closest_min_edge(my_number, 1100, 1150)"
   ]
  },
  {
   "cell_type": "code",
   "execution_count": 46,
   "metadata": {},
   "outputs": [
    {
     "name": "stdout",
     "output_type": "stream",
     "text": [
      "Target not reached\n"
     ]
    },
    {
     "data": {
      "text/plain": [
       "-1"
      ]
     },
     "execution_count": 46,
     "metadata": {},
     "output_type": "execute_result"
    }
   ],
   "source": [
    "find_closest_min_edge(my_number, 1100, 1110)"
   ]
  },
  {
   "cell_type": "code",
   "execution_count": 47,
   "metadata": {},
   "outputs": [],
   "source": [
    "def find_coordinate(number, edge):\n",
    "    '''\n",
    "    Find the coordinate of a number given the closest edge\n",
    "    '''\n",
    "    e1, e2 = edge_coordinate(edge)\n",
    "    d1, d2 = edge_direction(edge)\n",
    "    diff = number - edge_value(edge)\n",
    "    return (e1 + diff * d1, e2 + diff * d2)"
   ]
  },
  {
   "cell_type": "code",
   "execution_count": 49,
   "metadata": {},
   "outputs": [],
   "source": [
    "def manhattan(coord):\n",
    "    '''\n",
    "    Compute the Manhattan distance to the center (0, 0)\n",
    "    '''\n",
    "    a, b = coord\n",
    "    return abs(a) + abs(b)"
   ]
  },
  {
   "cell_type": "code",
   "execution_count": 50,
   "metadata": {},
   "outputs": [],
   "source": [
    "my_edge = find_closest_min_edge(my_number, 1100, 1150)"
   ]
  },
  {
   "cell_type": "code",
   "execution_count": 52,
   "metadata": {},
   "outputs": [],
   "source": [
    "my_coord = find_coordinate(my_number, my_edge)"
   ]
  },
  {
   "cell_type": "code",
   "execution_count": 53,
   "metadata": {},
   "outputs": [
    {
     "data": {
      "text/plain": [
       "430"
      ]
     },
     "execution_count": 53,
     "metadata": {},
     "output_type": "execute_result"
    }
   ],
   "source": [
    "manhattan(my_coord)"
   ]
  },
  {
   "cell_type": "markdown",
   "metadata": {},
   "source": [
    "## Part 2\n",
    "I cheated using Wolfram Alpha and http://oeis.org/A141481 (the table is here : http://oeis.org/A141481/b141481.txt)"
   ]
  },
  {
   "cell_type": "code",
   "execution_count": null,
   "metadata": {},
   "outputs": [],
   "source": []
  }
 ],
 "metadata": {
  "kernelspec": {
   "display_name": "Python 3",
   "language": "python",
   "name": "python3"
  },
  "language_info": {
   "codemirror_mode": {
    "name": "ipython",
    "version": 3
   },
   "file_extension": ".py",
   "mimetype": "text/x-python",
   "name": "python",
   "nbconvert_exporter": "python",
   "pygments_lexer": "ipython3",
   "version": "3.6.3"
  }
 },
 "nbformat": 4,
 "nbformat_minor": 2
}
